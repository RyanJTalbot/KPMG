{
 "cells": [
  {
   "cell_type": "code",
   "execution_count": 1,
   "id": "dcb96e40",
   "metadata": {
    "extensions": {
     "jupyter_dashboards": {
      "version": 1,
      "views": {
       "grid_default": {},
       "report_default": {}
      }
     }
    }
   },
   "outputs": [],
   "source": [
    "%matplotlib inline"
   ]
  },
  {
   "cell_type": "code",
   "execution_count": 2,
   "id": "a56436e7",
   "metadata": {
    "extensions": {
     "jupyter_dashboards": {
      "version": 1,
      "views": {
       "grid_default": {},
       "report_default": {}
      }
     }
    }
   },
   "outputs": [],
   "source": [
    "import seaborn as sns\n",
    "from ipywidgets import interact"
   ]
  },
  {
   "cell_type": "code",
   "execution_count": 3,
   "id": "59febeb8",
   "metadata": {
    "extensions": {
     "jupyter_dashboards": {
      "version": 1,
      "views": {
       "grid_default": {},
       "report_default": {}
      }
     }
    }
   },
   "outputs": [],
   "source": [
    "import pandas as pd\n",
    "import matplotlib.pyplot as plt\n",
    "import seaborn as sns\n",
    "import numpy as np\n",
    "from scipy.stats import norm\n",
    "from sklearn.preprocessing import StandardScaler\n",
    "from scipy import stats\n",
    "import warnings\n",
    "warnings.filterwarnings('ignore')"
   ]
  },
  {
   "cell_type": "code",
   "execution_count": 4,
   "id": "0634f98c",
   "metadata": {
    "extensions": {
     "jupyter_dashboards": {
      "version": 1,
      "views": {
       "grid_default": {},
       "report_default": {}
      }
     }
    }
   },
   "outputs": [],
   "source": [
    "customers = pd.read_csv('new_customers_update.csv')"
   ]
  },
  {
   "cell_type": "code",
   "execution_count": 5,
   "id": "f0377ee5",
   "metadata": {
    "extensions": {
     "jupyter_dashboards": {
      "version": 1,
      "views": {
       "grid_default": {},
       "report_default": {}
      }
     }
    },
    "scrolled": true
   },
   "outputs": [
    {
     "name": "stdout",
     "output_type": "stream",
     "text": [
      "<class 'pandas.core.frame.DataFrame'>\n",
      "RangeIndex: 715 entries, 0 to 714\n",
      "Data columns (total 22 columns):\n",
      " #   Column                               Non-Null Count  Dtype  \n",
      "---  ------                               --------------  -----  \n",
      " 0   gender                               715 non-null    int64  \n",
      " 1   past_3_years_bike_related_purchases  715 non-null    int64  \n",
      " 2   DOB                                  715 non-null    object \n",
      " 3   job_title                            715 non-null    object \n",
      " 4   job_industry_category                715 non-null    int64  \n",
      " 5   wealth_segment                       715 non-null    int64  \n",
      " 6   deceased_indicator                   715 non-null    object \n",
      " 7   owns_car                             715 non-null    int64  \n",
      " 8   tenure                               715 non-null    int64  \n",
      " 9   address                              715 non-null    object \n",
      " 10  postcode                             715 non-null    int64  \n",
      " 11  state                                715 non-null    int64  \n",
      " 12  country                              715 non-null    object \n",
      " 13  property_valuation                   715 non-null    float64\n",
      " 14  Unnamed: 16                          715 non-null    float64\n",
      " 15  Unnamed: 17                          715 non-null    float64\n",
      " 16  Unnamed: 18                          715 non-null    float64\n",
      " 17  Unnamed: 19                          715 non-null    float64\n",
      " 18  Unnamed: 20                          715 non-null    int64  \n",
      " 19  Rank                                 715 non-null    int64  \n",
      " 20  Value                                715 non-null    float64\n",
      " 21  name                                 715 non-null    object \n",
      "dtypes: float64(6), int64(10), object(6)\n",
      "memory usage: 123.0+ KB\n"
     ]
    }
   ],
   "source": [
    "customers.info()"
   ]
  },
  {
   "cell_type": "code",
   "execution_count": 6,
   "id": "5341edf2",
   "metadata": {
    "extensions": {
     "jupyter_dashboards": {
      "version": 1,
      "views": {
       "grid_default": {},
       "report_default": {}
      }
     }
    }
   },
   "outputs": [
    {
     "data": {
      "text/plain": [
       "gender                                   2\n",
       "past_3_years_bike_related_purchases     99\n",
       "DOB                                    702\n",
       "job_title                              176\n",
       "job_industry_category                    9\n",
       "wealth_segment                           3\n",
       "deceased_indicator                       1\n",
       "owns_car                                 2\n",
       "tenure                                  22\n",
       "address                                715\n",
       "postcode                               435\n",
       "state                                    3\n",
       "country                                  1\n",
       "property_valuation                      12\n",
       "Unnamed: 16                             71\n",
       "Unnamed: 17                            127\n",
       "Unnamed: 18                            177\n",
       "Unnamed: 19                            292\n",
       "Unnamed: 20                            289\n",
       "Rank                                   289\n",
       "Value                                  284\n",
       "name                                   715\n",
       "dtype: int64"
      ]
     },
     "execution_count": 6,
     "metadata": {},
     "output_type": "execute_result"
    }
   ],
   "source": [
    "customers.nunique()"
   ]
  },
  {
   "cell_type": "code",
   "execution_count": 7,
   "id": "47018bb1",
   "metadata": {
    "extensions": {
     "jupyter_dashboards": {
      "version": 1,
      "views": {
       "grid_default": {},
       "report_default": {}
      }
     }
    },
    "scrolled": true
   },
   "outputs": [
    {
     "data": {
      "application/vnd.jupyter.widget-view+json": {
       "model_id": "f3439ec707bd4b3197922063afa98d07",
       "version_major": 2,
       "version_minor": 0
      },
      "text/plain": [
       "interactive(children=(Dropdown(description='hue', options=('wealth_segment', 'gender'), value='wealth_segment'…"
      ]
     },
     "metadata": {},
     "output_type": "display_data"
    }
   ],
   "source": [
    "@interact(hue=['wealth_segment', 'gender'])\n",
    "def plot(hue):\n",
    "    _ = sns.pairplot(customers, hue=hue)"
   ]
  },
  {
   "cell_type": "code",
   "execution_count": null,
   "id": "ba28341b",
   "metadata": {
    "extensions": {
     "jupyter_dashboards": {
      "version": 1,
      "views": {
       "grid_default": {},
       "report_default": {}
      }
     }
    }
   },
   "outputs": [],
   "source": []
  }
 ],
 "metadata": {
  "extensions": {
   "jupyter_dashboards": {
    "activeView": "grid_default",
    "version": 1,
    "views": {
     "grid_default": {
      "cellMargin": 10,
      "defaultCellHeight": 20,
      "maxColumns": 12,
      "name": "grid",
      "type": "grid"
     },
     "report_default": {
      "name": "report",
      "type": "report"
     }
    }
   }
  },
  "kernelspec": {
   "display_name": "Python 3 (ipykernel)",
   "language": "python",
   "name": "python3"
  },
  "language_info": {
   "codemirror_mode": {
    "name": "ipython",
    "version": 3
   },
   "file_extension": ".py",
   "mimetype": "text/x-python",
   "name": "python",
   "nbconvert_exporter": "python",
   "pygments_lexer": "ipython3",
   "version": "3.9.12"
  }
 },
 "nbformat": 4,
 "nbformat_minor": 5
}
