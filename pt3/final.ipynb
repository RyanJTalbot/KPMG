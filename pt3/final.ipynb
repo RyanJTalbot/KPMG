{
 "cells": [
  {
   "cell_type": "markdown",
   "id": "db2b1a0e",
   "metadata": {},
   "source": [
    "    What are the trends in the underlying data?\n",
    "    Which customer segment has the highest customer value?\n",
    "    What do you propose should be Sprocket Central Pty Ltd ’s marketing and growth strategy?\n",
    "    What additional external datasets may be useful to obtain greater insights into customer preferences and propensity to purchase the products?"
   ]
  },
  {
   "cell_type": "code",
   "execution_count": 1,
   "id": "bf6691bb",
   "metadata": {},
   "outputs": [],
   "source": [
    "#invite people for the Kaggle party\n",
    "import pandas as pd\n",
    "import matplotlib.pyplot as plt\n",
    "import seaborn as sns\n",
    "import numpy as np\n",
    "from scipy.stats import norm\n",
    "from sklearn.preprocessing import StandardScaler\n",
    "from scipy import stats\n",
    "import warnings\n",
    "warnings.filterwarnings('ignore')\n",
    "%matplotlib inline"
   ]
  },
  {
   "cell_type": "code",
   "execution_count": 3,
   "id": "2624dbfe",
   "metadata": {},
   "outputs": [],
   "source": [
    "customers = pd.read_csv('new_customers_update.csv')"
   ]
  },
  {
   "cell_type": "code",
   "execution_count": 5,
   "id": "3e3ef762",
   "metadata": {},
   "outputs": [
    {
     "name": "stdout",
     "output_type": "stream",
     "text": [
      "<class 'pandas.core.frame.DataFrame'>\n",
      "RangeIndex: 715 entries, 0 to 714\n",
      "Data columns (total 22 columns):\n",
      " #   Column                               Non-Null Count  Dtype  \n",
      "---  ------                               --------------  -----  \n",
      " 0   gender                               715 non-null    int64  \n",
      " 1   past_3_years_bike_related_purchases  715 non-null    int64  \n",
      " 2   DOB                                  715 non-null    object \n",
      " 3   job_title                            715 non-null    object \n",
      " 4   job_industry_category                715 non-null    int64  \n",
      " 5   wealth_segment                       715 non-null    int64  \n",
      " 6   deceased_indicator                   715 non-null    object \n",
      " 7   owns_car                             715 non-null    int64  \n",
      " 8   tenure                               715 non-null    int64  \n",
      " 9   address                              715 non-null    object \n",
      " 10  postcode                             715 non-null    int64  \n",
      " 11  state                                715 non-null    int64  \n",
      " 12  country                              715 non-null    object \n",
      " 13  property_valuation                   715 non-null    float64\n",
      " 14  Unnamed: 16                          715 non-null    float64\n",
      " 15  Unnamed: 17                          715 non-null    float64\n",
      " 16  Unnamed: 18                          715 non-null    float64\n",
      " 17  Unnamed: 19                          715 non-null    float64\n",
      " 18  Unnamed: 20                          715 non-null    int64  \n",
      " 19  Rank                                 715 non-null    int64  \n",
      " 20  Value                                715 non-null    float64\n",
      " 21  name                                 715 non-null    object \n",
      "dtypes: float64(6), int64(10), object(6)\n",
      "memory usage: 123.0+ KB\n"
     ]
    }
   ],
   "source": [
    "customers.info()"
   ]
  },
  {
   "cell_type": "code",
   "execution_count": 6,
   "id": "104c52b5",
   "metadata": {},
   "outputs": [],
   "source": [
    "transactions = pd.read_csv('transactions_ordered.csv')"
   ]
  },
  {
   "cell_type": "code",
   "execution_count": 8,
   "id": "b248e24b",
   "metadata": {},
   "outputs": [],
   "source": [
    "customerDemographic = pd.read_csv('customerDemographic.csv')"
   ]
  },
  {
   "cell_type": "code",
   "execution_count": 15,
   "id": "703a357a",
   "metadata": {},
   "outputs": [],
   "source": [
    "customerAddress = pd.read_csv('customerAddress.csv')"
   ]
  },
  {
   "cell_type": "code",
   "execution_count": 11,
   "id": "38a14908",
   "metadata": {},
   "outputs": [
    {
     "name": "stdout",
     "output_type": "stream",
     "text": [
      "<class 'pandas.core.frame.DataFrame'>\n",
      "RangeIndex: 20000 entries, 0 to 19999\n",
      "Data columns (total 13 columns):\n",
      " #   Column                   Non-Null Count  Dtype  \n",
      "---  ------                   --------------  -----  \n",
      " 0   transaction_id           20000 non-null  int64  \n",
      " 1   product_id               20000 non-null  int64  \n",
      " 2   customer_id              20000 non-null  int64  \n",
      " 3   transaction_date         20000 non-null  object \n",
      " 4   online_order             19640 non-null  object \n",
      " 5   order_status             20000 non-null  object \n",
      " 6   brand                    19803 non-null  object \n",
      " 7   product_line             19803 non-null  object \n",
      " 8   product_class            19803 non-null  object \n",
      " 9   product_size             19803 non-null  object \n",
      " 10  list_price               20000 non-null  float64\n",
      " 11  standard_cost            19803 non-null  object \n",
      " 12  product_first_sold_date  19803 non-null  float64\n",
      "dtypes: float64(2), int64(3), object(8)\n",
      "memory usage: 2.0+ MB\n"
     ]
    }
   ],
   "source": [
    "transactions.info()"
   ]
  },
  {
   "cell_type": "code",
   "execution_count": 12,
   "id": "15b8a252",
   "metadata": {},
   "outputs": [
    {
     "name": "stdout",
     "output_type": "stream",
     "text": [
      "<class 'pandas.core.frame.DataFrame'>\n",
      "RangeIndex: 4000 entries, 0 to 3999\n",
      "Data columns (total 13 columns):\n",
      " #   Column                               Non-Null Count  Dtype  \n",
      "---  ------                               --------------  -----  \n",
      " 0   customer_id                          4000 non-null   int64  \n",
      " 1   first_name                           4000 non-null   object \n",
      " 2   last_name                            3875 non-null   object \n",
      " 3   gender                               4000 non-null   object \n",
      " 4   past_3_years_bike_related_purchases  4000 non-null   int64  \n",
      " 5   DOB                                  3913 non-null   object \n",
      " 6   job_title                            3494 non-null   object \n",
      " 7   job_industry_category                3344 non-null   object \n",
      " 8   wealth_segment                       4000 non-null   object \n",
      " 9   deceased_indicator                   4000 non-null   object \n",
      " 10  default                              3698 non-null   object \n",
      " 11  owns_car                             4000 non-null   object \n",
      " 12  tenure                               3913 non-null   float64\n",
      "dtypes: float64(1), int64(2), object(10)\n",
      "memory usage: 406.4+ KB\n"
     ]
    }
   ],
   "source": [
    "customerDemographic.info()"
   ]
  },
  {
   "cell_type": "code",
   "execution_count": 16,
   "id": "925ca7e7",
   "metadata": {},
   "outputs": [
    {
     "name": "stdout",
     "output_type": "stream",
     "text": [
      "<class 'pandas.core.frame.DataFrame'>\n",
      "RangeIndex: 3999 entries, 0 to 3998\n",
      "Data columns (total 6 columns):\n",
      " #   Column              Non-Null Count  Dtype \n",
      "---  ------              --------------  ----- \n",
      " 0   customer_id         3999 non-null   int64 \n",
      " 1   address             3999 non-null   object\n",
      " 2   postcode            3999 non-null   int64 \n",
      " 3   state               3999 non-null   object\n",
      " 4   country             3999 non-null   object\n",
      " 5   property_valuation  3999 non-null   int64 \n",
      "dtypes: int64(3), object(3)\n",
      "memory usage: 187.6+ KB\n"
     ]
    }
   ],
   "source": [
    "customerAddress.info()"
   ]
  },
  {
   "cell_type": "code",
   "execution_count": null,
   "id": "58bb1a39",
   "metadata": {},
   "outputs": [],
   "source": []
  }
 ],
 "metadata": {
  "kernelspec": {
   "display_name": "Python 3 (ipykernel)",
   "language": "python",
   "name": "python3"
  },
  "language_info": {
   "codemirror_mode": {
    "name": "ipython",
    "version": 3
   },
   "file_extension": ".py",
   "mimetype": "text/x-python",
   "name": "python",
   "nbconvert_exporter": "python",
   "pygments_lexer": "ipython3",
   "version": "3.9.12"
  }
 },
 "nbformat": 4,
 "nbformat_minor": 5
}
