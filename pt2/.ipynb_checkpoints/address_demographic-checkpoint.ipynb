{
 "cells": [
  {
   "cell_type": "code",
   "execution_count": 1,
   "id": "e9e65366",
   "metadata": {},
   "outputs": [],
   "source": [
    "#invite people for the Kaggle party\n",
    "import pandas as pd\n",
    "import matplotlib.pyplot as plt\n",
    "import seaborn as sns\n",
    "import numpy as np\n",
    "from scipy.stats import norm\n",
    "from sklearn.preprocessing import StandardScaler\n",
    "from scipy import stats\n",
    "import warnings\n",
    "warnings.filterwarnings('ignore')\n",
    "%matplotlib inline"
   ]
  },
  {
   "cell_type": "code",
   "execution_count": 2,
   "id": "ff3c048c",
   "metadata": {},
   "outputs": [],
   "source": [
    "df = pd.read_csv('address_demographic.csv')"
   ]
  },
  {
   "cell_type": "code",
   "execution_count": 3,
   "id": "33045360",
   "metadata": {},
   "outputs": [
    {
     "data": {
      "text/html": [
       "<div>\n",
       "<style scoped>\n",
       "    .dataframe tbody tr th:only-of-type {\n",
       "        vertical-align: middle;\n",
       "    }\n",
       "\n",
       "    .dataframe tbody tr th {\n",
       "        vertical-align: top;\n",
       "    }\n",
       "\n",
       "    .dataframe thead th {\n",
       "        text-align: right;\n",
       "    }\n",
       "</style>\n",
       "<table border=\"1\" class=\"dataframe\">\n",
       "  <thead>\n",
       "    <tr style=\"text-align: right;\">\n",
       "      <th></th>\n",
       "      <th>customer_id</th>\n",
       "      <th>address</th>\n",
       "      <th>postcode</th>\n",
       "      <th>state</th>\n",
       "      <th>country</th>\n",
       "      <th>property_valuation</th>\n",
       "      <th>customer_id.1</th>\n",
       "      <th>first_name</th>\n",
       "      <th>last_name</th>\n",
       "      <th>gender</th>\n",
       "      <th>past_3_years_bike_related_purchases</th>\n",
       "      <th>DOB</th>\n",
       "      <th>job_title</th>\n",
       "      <th>job_industry_category</th>\n",
       "      <th>wealth_segment</th>\n",
       "      <th>deceased_indicator</th>\n",
       "      <th>default</th>\n",
       "      <th>owns_car</th>\n",
       "      <th>tenure</th>\n",
       "    </tr>\n",
       "  </thead>\n",
       "  <tbody>\n",
       "    <tr>\n",
       "      <th>0</th>\n",
       "      <td>1.0</td>\n",
       "      <td>060 Morning Avenue</td>\n",
       "      <td>2016.0</td>\n",
       "      <td>New South Wales</td>\n",
       "      <td>Australia</td>\n",
       "      <td>10.0</td>\n",
       "      <td>1</td>\n",
       "      <td>Laraine</td>\n",
       "      <td>Medendorp</td>\n",
       "      <td>F</td>\n",
       "      <td>93</td>\n",
       "      <td>1953-10-12</td>\n",
       "      <td>Executive Secretary</td>\n",
       "      <td>Health</td>\n",
       "      <td>Mass Customer</td>\n",
       "      <td>N</td>\n",
       "      <td>\"'</td>\n",
       "      <td>Yes</td>\n",
       "      <td>11.0</td>\n",
       "    </tr>\n",
       "    <tr>\n",
       "      <th>1</th>\n",
       "      <td>2.0</td>\n",
       "      <td>6 Meadow Vale Court</td>\n",
       "      <td>2153.0</td>\n",
       "      <td>New South Wales</td>\n",
       "      <td>Australia</td>\n",
       "      <td>10.0</td>\n",
       "      <td>2</td>\n",
       "      <td>Eli</td>\n",
       "      <td>Bockman</td>\n",
       "      <td>Male</td>\n",
       "      <td>81</td>\n",
       "      <td>1980-12-16</td>\n",
       "      <td>Administrative Officer</td>\n",
       "      <td>Financial Services</td>\n",
       "      <td>Mass Customer</td>\n",
       "      <td>N</td>\n",
       "      <td>&lt;script&gt;alert('hi')&lt;/script&gt;</td>\n",
       "      <td>Yes</td>\n",
       "      <td>16.0</td>\n",
       "    </tr>\n",
       "    <tr>\n",
       "      <th>2</th>\n",
       "      <td>4.0</td>\n",
       "      <td>0 Holy Cross Court</td>\n",
       "      <td>4211.0</td>\n",
       "      <td>QLD</td>\n",
       "      <td>Australia</td>\n",
       "      <td>9.0</td>\n",
       "      <td>3</td>\n",
       "      <td>Arlin</td>\n",
       "      <td>Dearle</td>\n",
       "      <td>Male</td>\n",
       "      <td>61</td>\n",
       "      <td>1954-01-20</td>\n",
       "      <td>Recruiting Manager</td>\n",
       "      <td>Property</td>\n",
       "      <td>Mass Customer</td>\n",
       "      <td>N</td>\n",
       "      <td>1-Feb</td>\n",
       "      <td>Yes</td>\n",
       "      <td>15.0</td>\n",
       "    </tr>\n",
       "    <tr>\n",
       "      <th>3</th>\n",
       "      <td>5.0</td>\n",
       "      <td>17979 Del Mar Point</td>\n",
       "      <td>2448.0</td>\n",
       "      <td>New South Wales</td>\n",
       "      <td>Australia</td>\n",
       "      <td>4.0</td>\n",
       "      <td>4</td>\n",
       "      <td>Talbot</td>\n",
       "      <td>NaN</td>\n",
       "      <td>Male</td>\n",
       "      <td>33</td>\n",
       "      <td>1961-10-03</td>\n",
       "      <td>NaN</td>\n",
       "      <td>IT</td>\n",
       "      <td>Mass Customer</td>\n",
       "      <td>N</td>\n",
       "      <td>() { _; } &gt;_[$($())] { touch /tmp/blns.shellsh...</td>\n",
       "      <td>No</td>\n",
       "      <td>7.0</td>\n",
       "    </tr>\n",
       "    <tr>\n",
       "      <th>4</th>\n",
       "      <td>6.0</td>\n",
       "      <td>9 Oakridge Court</td>\n",
       "      <td>3216.0</td>\n",
       "      <td>VIC</td>\n",
       "      <td>Australia</td>\n",
       "      <td>9.0</td>\n",
       "      <td>5</td>\n",
       "      <td>Sheila-kathryn</td>\n",
       "      <td>Calton</td>\n",
       "      <td>Female</td>\n",
       "      <td>56</td>\n",
       "      <td>1977-05-13</td>\n",
       "      <td>Senior Editor</td>\n",
       "      <td>NaN</td>\n",
       "      <td>Affluent Customer</td>\n",
       "      <td>N</td>\n",
       "      <td>NIL</td>\n",
       "      <td>Yes</td>\n",
       "      <td>8.0</td>\n",
       "    </tr>\n",
       "  </tbody>\n",
       "</table>\n",
       "</div>"
      ],
      "text/plain": [
       "   customer_id              address  postcode            state    country  \\\n",
       "0          1.0   060 Morning Avenue    2016.0  New South Wales  Australia   \n",
       "1          2.0  6 Meadow Vale Court    2153.0  New South Wales  Australia   \n",
       "2          4.0   0 Holy Cross Court    4211.0              QLD  Australia   \n",
       "3          5.0  17979 Del Mar Point    2448.0  New South Wales  Australia   \n",
       "4          6.0     9 Oakridge Court    3216.0              VIC  Australia   \n",
       "\n",
       "   property_valuation  customer_id.1      first_name  last_name  gender  \\\n",
       "0                10.0              1         Laraine  Medendorp       F   \n",
       "1                10.0              2             Eli    Bockman    Male   \n",
       "2                 9.0              3           Arlin     Dearle    Male   \n",
       "3                 4.0              4          Talbot        NaN    Male   \n",
       "4                 9.0              5  Sheila-kathryn     Calton  Female   \n",
       "\n",
       "   past_3_years_bike_related_purchases         DOB               job_title  \\\n",
       "0                                   93  1953-10-12     Executive Secretary   \n",
       "1                                   81  1980-12-16  Administrative Officer   \n",
       "2                                   61  1954-01-20      Recruiting Manager   \n",
       "3                                   33  1961-10-03                     NaN   \n",
       "4                                   56  1977-05-13           Senior Editor   \n",
       "\n",
       "  job_industry_category     wealth_segment deceased_indicator  \\\n",
       "0                Health      Mass Customer                  N   \n",
       "1    Financial Services      Mass Customer                  N   \n",
       "2              Property      Mass Customer                  N   \n",
       "3                    IT      Mass Customer                  N   \n",
       "4                   NaN  Affluent Customer                  N   \n",
       "\n",
       "                                             default owns_car  tenure  \n",
       "0                                                 \"'      Yes    11.0  \n",
       "1                       <script>alert('hi')</script>      Yes    16.0  \n",
       "2                                              1-Feb      Yes    15.0  \n",
       "3  () { _; } >_[$($())] { touch /tmp/blns.shellsh...       No     7.0  \n",
       "4                                                NIL      Yes     8.0  "
      ]
     },
     "execution_count": 3,
     "metadata": {},
     "output_type": "execute_result"
    }
   ],
   "source": [
    "df.head()"
   ]
  },
  {
   "cell_type": "markdown",
   "id": "da34b605",
   "metadata": {},
   "source": [
    "default tab is non sense"
   ]
  },
  {
   "cell_type": "code",
   "execution_count": 4,
   "id": "96427951",
   "metadata": {},
   "outputs": [
    {
     "name": "stdout",
     "output_type": "stream",
     "text": [
      "<class 'pandas.core.frame.DataFrame'>\n",
      "RangeIndex: 4000 entries, 0 to 3999\n",
      "Data columns (total 19 columns):\n",
      " #   Column                               Non-Null Count  Dtype  \n",
      "---  ------                               --------------  -----  \n",
      " 0   customer_id                          3999 non-null   float64\n",
      " 1   address                              3999 non-null   object \n",
      " 2   postcode                             3999 non-null   float64\n",
      " 3   state                                3999 non-null   object \n",
      " 4   country                              3999 non-null   object \n",
      " 5   property_valuation                   3999 non-null   float64\n",
      " 6   customer_id.1                        4000 non-null   int64  \n",
      " 7   first_name                           4000 non-null   object \n",
      " 8   last_name                            3875 non-null   object \n",
      " 9   gender                               4000 non-null   object \n",
      " 10  past_3_years_bike_related_purchases  4000 non-null   int64  \n",
      " 11  DOB                                  3913 non-null   object \n",
      " 12  job_title                            3494 non-null   object \n",
      " 13  job_industry_category                3344 non-null   object \n",
      " 14  wealth_segment                       4000 non-null   object \n",
      " 15  deceased_indicator                   4000 non-null   object \n",
      " 16  default                              3698 non-null   object \n",
      " 17  owns_car                             4000 non-null   object \n",
      " 18  tenure                               3913 non-null   float64\n",
      "dtypes: float64(4), int64(2), object(13)\n",
      "memory usage: 593.9+ KB\n"
     ]
    }
   ],
   "source": [
    "df.info()"
   ]
  },
  {
   "cell_type": "code",
   "execution_count": 5,
   "id": "5796c4ac",
   "metadata": {},
   "outputs": [],
   "source": [
    "df = df.drop(columns=['default'])"
   ]
  },
  {
   "cell_type": "code",
   "execution_count": 6,
   "id": "a94079cf",
   "metadata": {},
   "outputs": [
    {
     "name": "stdout",
     "output_type": "stream",
     "text": [
      "<class 'pandas.core.frame.DataFrame'>\n",
      "RangeIndex: 4000 entries, 0 to 3999\n",
      "Data columns (total 18 columns):\n",
      " #   Column                               Non-Null Count  Dtype  \n",
      "---  ------                               --------------  -----  \n",
      " 0   customer_id                          3999 non-null   float64\n",
      " 1   address                              3999 non-null   object \n",
      " 2   postcode                             3999 non-null   float64\n",
      " 3   state                                3999 non-null   object \n",
      " 4   country                              3999 non-null   object \n",
      " 5   property_valuation                   3999 non-null   float64\n",
      " 6   customer_id.1                        4000 non-null   int64  \n",
      " 7   first_name                           4000 non-null   object \n",
      " 8   last_name                            3875 non-null   object \n",
      " 9   gender                               4000 non-null   object \n",
      " 10  past_3_years_bike_related_purchases  4000 non-null   int64  \n",
      " 11  DOB                                  3913 non-null   object \n",
      " 12  job_title                            3494 non-null   object \n",
      " 13  job_industry_category                3344 non-null   object \n",
      " 14  wealth_segment                       4000 non-null   object \n",
      " 15  deceased_indicator                   4000 non-null   object \n",
      " 16  owns_car                             4000 non-null   object \n",
      " 17  tenure                               3913 non-null   float64\n",
      "dtypes: float64(4), int64(2), object(12)\n",
      "memory usage: 562.6+ KB\n"
     ]
    }
   ],
   "source": [
    "df.info()"
   ]
  },
  {
   "cell_type": "code",
   "execution_count": 7,
   "id": "bb18ef59",
   "metadata": {},
   "outputs": [],
   "source": [
    "df = df.drop(columns=['last_name'])"
   ]
  },
  {
   "cell_type": "code",
   "execution_count": 8,
   "id": "ec2c2bfc",
   "metadata": {},
   "outputs": [
    {
     "name": "stdout",
     "output_type": "stream",
     "text": [
      "<class 'pandas.core.frame.DataFrame'>\n",
      "RangeIndex: 4000 entries, 0 to 3999\n",
      "Data columns (total 17 columns):\n",
      " #   Column                               Non-Null Count  Dtype  \n",
      "---  ------                               --------------  -----  \n",
      " 0   customer_id                          3999 non-null   float64\n",
      " 1   address                              3999 non-null   object \n",
      " 2   postcode                             3999 non-null   float64\n",
      " 3   state                                3999 non-null   object \n",
      " 4   country                              3999 non-null   object \n",
      " 5   property_valuation                   3999 non-null   float64\n",
      " 6   customer_id.1                        4000 non-null   int64  \n",
      " 7   first_name                           4000 non-null   object \n",
      " 8   gender                               4000 non-null   object \n",
      " 9   past_3_years_bike_related_purchases  4000 non-null   int64  \n",
      " 10  DOB                                  3913 non-null   object \n",
      " 11  job_title                            3494 non-null   object \n",
      " 12  job_industry_category                3344 non-null   object \n",
      " 13  wealth_segment                       4000 non-null   object \n",
      " 14  deceased_indicator                   4000 non-null   object \n",
      " 15  owns_car                             4000 non-null   object \n",
      " 16  tenure                               3913 non-null   float64\n",
      "dtypes: float64(4), int64(2), object(11)\n",
      "memory usage: 531.4+ KB\n"
     ]
    }
   ],
   "source": [
    "df.info()"
   ]
  },
  {
   "cell_type": "markdown",
   "id": "54ff2572",
   "metadata": {},
   "source": [
    "fill in job title with na and job category with na and tenure with mean? if they are blank"
   ]
  },
  {
   "cell_type": "code",
   "execution_count": 9,
   "id": "f5bced58",
   "metadata": {},
   "outputs": [],
   "source": [
    "jobs = df['job_title']"
   ]
  },
  {
   "cell_type": "code",
   "execution_count": 10,
   "id": "df5106ff",
   "metadata": {},
   "outputs": [
    {
     "data": {
      "text/plain": [
       "customer_id                              1\n",
       "address                                  1\n",
       "postcode                                 1\n",
       "state                                    1\n",
       "country                                  1\n",
       "property_valuation                       1\n",
       "customer_id.1                            0\n",
       "first_name                               0\n",
       "gender                                   0\n",
       "past_3_years_bike_related_purchases      0\n",
       "DOB                                     87\n",
       "job_title                              506\n",
       "job_industry_category                  656\n",
       "wealth_segment                           0\n",
       "deceased_indicator                       0\n",
       "owns_car                                 0\n",
       "tenure                                  87\n",
       "dtype: int64"
      ]
     },
     "execution_count": 10,
     "metadata": {},
     "output_type": "execute_result"
    }
   ],
   "source": [
    "df.isnull().sum()"
   ]
  },
  {
   "cell_type": "code",
   "execution_count": null,
   "id": "7d0b5712",
   "metadata": {},
   "outputs": [],
   "source": []
  },
  {
   "cell_type": "code",
   "execution_count": 11,
   "id": "6ed11dbe",
   "metadata": {},
   "outputs": [],
   "source": [
    "jobs.fillna('none', inplace=True)"
   ]
  },
  {
   "cell_type": "code",
   "execution_count": 12,
   "id": "7cd90aa5",
   "metadata": {},
   "outputs": [
    {
     "data": {
      "text/plain": [
       "<bound method IndexOpsMixin.nunique of 0          Executive Secretary\n",
       "1       Administrative Officer\n",
       "2           Recruiting Manager\n",
       "3                         none\n",
       "4                Senior Editor\n",
       "                 ...          \n",
       "3995     VP Product Management\n",
       "3996           Statistician II\n",
       "3997         Assistant Manager\n",
       "3998                      none\n",
       "3999      Software Engineer IV\n",
       "Name: job_title, Length: 4000, dtype: object>"
      ]
     },
     "execution_count": 12,
     "metadata": {},
     "output_type": "execute_result"
    }
   ],
   "source": [
    "jobs.nunique"
   ]
  },
  {
   "cell_type": "code",
   "execution_count": 13,
   "id": "5ae040d5",
   "metadata": {},
   "outputs": [],
   "source": [
    "df['job_title'] = jobs"
   ]
  },
  {
   "cell_type": "code",
   "execution_count": 14,
   "id": "2fa98691",
   "metadata": {},
   "outputs": [
    {
     "name": "stdout",
     "output_type": "stream",
     "text": [
      "<class 'pandas.core.frame.DataFrame'>\n",
      "RangeIndex: 4000 entries, 0 to 3999\n",
      "Data columns (total 17 columns):\n",
      " #   Column                               Non-Null Count  Dtype  \n",
      "---  ------                               --------------  -----  \n",
      " 0   customer_id                          3999 non-null   float64\n",
      " 1   address                              3999 non-null   object \n",
      " 2   postcode                             3999 non-null   float64\n",
      " 3   state                                3999 non-null   object \n",
      " 4   country                              3999 non-null   object \n",
      " 5   property_valuation                   3999 non-null   float64\n",
      " 6   customer_id.1                        4000 non-null   int64  \n",
      " 7   first_name                           4000 non-null   object \n",
      " 8   gender                               4000 non-null   object \n",
      " 9   past_3_years_bike_related_purchases  4000 non-null   int64  \n",
      " 10  DOB                                  3913 non-null   object \n",
      " 11  job_title                            4000 non-null   object \n",
      " 12  job_industry_category                3344 non-null   object \n",
      " 13  wealth_segment                       4000 non-null   object \n",
      " 14  deceased_indicator                   4000 non-null   object \n",
      " 15  owns_car                             4000 non-null   object \n",
      " 16  tenure                               3913 non-null   float64\n",
      "dtypes: float64(4), int64(2), object(11)\n",
      "memory usage: 531.4+ KB\n"
     ]
    }
   ],
   "source": [
    "df.info()"
   ]
  },
  {
   "cell_type": "code",
   "execution_count": 15,
   "id": "96c8e36c",
   "metadata": {},
   "outputs": [],
   "source": [
    "industry = df['job_industry_category']"
   ]
  },
  {
   "cell_type": "code",
   "execution_count": 16,
   "id": "312cad1a",
   "metadata": {},
   "outputs": [],
   "source": [
    "industry.fillna('none', inplace=True)"
   ]
  },
  {
   "cell_type": "code",
   "execution_count": 17,
   "id": "5d947c5c",
   "metadata": {},
   "outputs": [],
   "source": [
    "df['job_industry_category'] = industry"
   ]
  },
  {
   "cell_type": "code",
   "execution_count": 18,
   "id": "f85760d8",
   "metadata": {},
   "outputs": [
    {
     "name": "stdout",
     "output_type": "stream",
     "text": [
      "<class 'pandas.core.frame.DataFrame'>\n",
      "RangeIndex: 4000 entries, 0 to 3999\n",
      "Data columns (total 17 columns):\n",
      " #   Column                               Non-Null Count  Dtype  \n",
      "---  ------                               --------------  -----  \n",
      " 0   customer_id                          3999 non-null   float64\n",
      " 1   address                              3999 non-null   object \n",
      " 2   postcode                             3999 non-null   float64\n",
      " 3   state                                3999 non-null   object \n",
      " 4   country                              3999 non-null   object \n",
      " 5   property_valuation                   3999 non-null   float64\n",
      " 6   customer_id.1                        4000 non-null   int64  \n",
      " 7   first_name                           4000 non-null   object \n",
      " 8   gender                               4000 non-null   object \n",
      " 9   past_3_years_bike_related_purchases  4000 non-null   int64  \n",
      " 10  DOB                                  3913 non-null   object \n",
      " 11  job_title                            4000 non-null   object \n",
      " 12  job_industry_category                4000 non-null   object \n",
      " 13  wealth_segment                       4000 non-null   object \n",
      " 14  deceased_indicator                   4000 non-null   object \n",
      " 15  owns_car                             4000 non-null   object \n",
      " 16  tenure                               3913 non-null   float64\n",
      "dtypes: float64(4), int64(2), object(11)\n",
      "memory usage: 531.4+ KB\n"
     ]
    }
   ],
   "source": [
    "df.info()"
   ]
  },
  {
   "cell_type": "code",
   "execution_count": 19,
   "id": "b03e17a8",
   "metadata": {},
   "outputs": [],
   "source": [
    "df = df.dropna()"
   ]
  },
  {
   "cell_type": "code",
   "execution_count": 20,
   "id": "9d6fb29e",
   "metadata": {},
   "outputs": [
    {
     "name": "stdout",
     "output_type": "stream",
     "text": [
      "<class 'pandas.core.frame.DataFrame'>\n",
      "Int64Index: 3912 entries, 0 to 3998\n",
      "Data columns (total 17 columns):\n",
      " #   Column                               Non-Null Count  Dtype  \n",
      "---  ------                               --------------  -----  \n",
      " 0   customer_id                          3912 non-null   float64\n",
      " 1   address                              3912 non-null   object \n",
      " 2   postcode                             3912 non-null   float64\n",
      " 3   state                                3912 non-null   object \n",
      " 4   country                              3912 non-null   object \n",
      " 5   property_valuation                   3912 non-null   float64\n",
      " 6   customer_id.1                        3912 non-null   int64  \n",
      " 7   first_name                           3912 non-null   object \n",
      " 8   gender                               3912 non-null   object \n",
      " 9   past_3_years_bike_related_purchases  3912 non-null   int64  \n",
      " 10  DOB                                  3912 non-null   object \n",
      " 11  job_title                            3912 non-null   object \n",
      " 12  job_industry_category                3912 non-null   object \n",
      " 13  wealth_segment                       3912 non-null   object \n",
      " 14  deceased_indicator                   3912 non-null   object \n",
      " 15  owns_car                             3912 non-null   object \n",
      " 16  tenure                               3912 non-null   float64\n",
      "dtypes: float64(4), int64(2), object(11)\n",
      "memory usage: 550.1+ KB\n"
     ]
    }
   ],
   "source": [
    "df.info()"
   ]
  },
  {
   "cell_type": "code",
   "execution_count": 21,
   "id": "66f3b7f2",
   "metadata": {},
   "outputs": [],
   "source": [
    "dups = df.duplicated()"
   ]
  },
  {
   "cell_type": "code",
   "execution_count": 22,
   "id": "ddf19f26",
   "metadata": {},
   "outputs": [
    {
     "data": {
      "text/plain": [
       "False    3912\n",
       "dtype: int64"
      ]
     },
     "execution_count": 22,
     "metadata": {},
     "output_type": "execute_result"
    }
   ],
   "source": [
    "dups.value_counts()"
   ]
  },
  {
   "cell_type": "code",
   "execution_count": 23,
   "id": "5b4316a8",
   "metadata": {},
   "outputs": [
    {
     "data": {
      "text/plain": [
       "customer_id                            3912\n",
       "address                                3909\n",
       "postcode                                870\n",
       "state                                     5\n",
       "country                                   1\n",
       "property_valuation                       12\n",
       "customer_id.1                          3912\n",
       "first_name                             3079\n",
       "gender                                    6\n",
       "past_3_years_bike_related_purchases     100\n",
       "DOB                                    3447\n",
       "job_title                               196\n",
       "job_industry_category                    10\n",
       "wealth_segment                            3\n",
       "deceased_indicator                        2\n",
       "owns_car                                  2\n",
       "tenure                                   22\n",
       "dtype: int64"
      ]
     },
     "execution_count": 23,
     "metadata": {},
     "output_type": "execute_result"
    }
   ],
   "source": [
    "df.nunique()"
   ]
  },
  {
   "cell_type": "code",
   "execution_count": 24,
   "id": "2f45e539",
   "metadata": {},
   "outputs": [
    {
     "data": {
      "text/plain": [
       "Female    2037\n",
       "Male      1871\n",
       "F            1\n",
       "U            1\n",
       "Femal        1\n",
       "M            1\n",
       "Name: gender, dtype: int64"
      ]
     },
     "execution_count": 24,
     "metadata": {},
     "output_type": "execute_result"
    }
   ],
   "source": [
    "df['gender'].value_counts()"
   ]
  },
  {
   "cell_type": "markdown",
   "id": "c164121e",
   "metadata": {},
   "source": [
    "# Female    2037\n",
    "Male      1871\n",
    "F            1\n",
    "U            1\n",
    "Femal        1\n",
    "M            1"
   ]
  },
  {
   "cell_type": "code",
   "execution_count": 25,
   "id": "22bf6b4c",
   "metadata": {},
   "outputs": [],
   "source": [
    "df[\"job_industry_category\"] = df[\"job_industry_category\"].astype(\"category\").cat.codes"
   ]
  },
  {
   "cell_type": "code",
   "execution_count": 26,
   "id": "8ff87626",
   "metadata": {},
   "outputs": [],
   "source": [
    "df[\"wealth_segment\"] = df[\"wealth_segment\"].astype(\"category\").cat.codes"
   ]
  },
  {
   "cell_type": "code",
   "execution_count": 27,
   "id": "85b33989",
   "metadata": {},
   "outputs": [],
   "source": [
    "df[\"deceased_indicator\"] = df[\"deceased_indicator\"].astype(\"category\").cat.codes\n"
   ]
  },
  {
   "cell_type": "code",
   "execution_count": 28,
   "id": "c3d71115",
   "metadata": {},
   "outputs": [],
   "source": [
    "df[\"owns_car\"] = df[\"owns_car\"].astype(\"category\").cat.codes\n"
   ]
  },
  {
   "cell_type": "code",
   "execution_count": 29,
   "id": "9bf28f06",
   "metadata": {},
   "outputs": [],
   "source": [
    "df[\"tenure\"] = df[\"tenure\"].astype(\"category\").cat.codes\n"
   ]
  },
  {
   "cell_type": "code",
   "execution_count": 30,
   "id": "2526e8b5",
   "metadata": {},
   "outputs": [
    {
     "name": "stdout",
     "output_type": "stream",
     "text": [
      "<class 'pandas.core.frame.DataFrame'>\n",
      "Int64Index: 3912 entries, 0 to 3998\n",
      "Data columns (total 17 columns):\n",
      " #   Column                               Non-Null Count  Dtype  \n",
      "---  ------                               --------------  -----  \n",
      " 0   customer_id                          3912 non-null   float64\n",
      " 1   address                              3912 non-null   object \n",
      " 2   postcode                             3912 non-null   float64\n",
      " 3   state                                3912 non-null   object \n",
      " 4   country                              3912 non-null   object \n",
      " 5   property_valuation                   3912 non-null   float64\n",
      " 6   customer_id.1                        3912 non-null   int64  \n",
      " 7   first_name                           3912 non-null   object \n",
      " 8   gender                               3912 non-null   object \n",
      " 9   past_3_years_bike_related_purchases  3912 non-null   int64  \n",
      " 10  DOB                                  3912 non-null   object \n",
      " 11  job_title                            3912 non-null   object \n",
      " 12  job_industry_category                3912 non-null   int8   \n",
      " 13  wealth_segment                       3912 non-null   int8   \n",
      " 14  deceased_indicator                   3912 non-null   int8   \n",
      " 15  owns_car                             3912 non-null   int8   \n",
      " 16  tenure                               3912 non-null   int8   \n",
      "dtypes: float64(3), int64(2), int8(5), object(7)\n",
      "memory usage: 416.4+ KB\n"
     ]
    }
   ],
   "source": [
    "df.info()"
   ]
  },
  {
   "cell_type": "code",
   "execution_count": 31,
   "id": "7331d8e9",
   "metadata": {},
   "outputs": [],
   "source": [
    "df[\"state\"] = df[\"state\"].astype(\"category\").cat.codes\n"
   ]
  },
  {
   "cell_type": "code",
   "execution_count": 32,
   "id": "bfa257db",
   "metadata": {},
   "outputs": [
    {
     "name": "stdout",
     "output_type": "stream",
     "text": [
      "<class 'pandas.core.frame.DataFrame'>\n",
      "Int64Index: 3912 entries, 0 to 3998\n",
      "Data columns (total 17 columns):\n",
      " #   Column                               Non-Null Count  Dtype  \n",
      "---  ------                               --------------  -----  \n",
      " 0   customer_id                          3912 non-null   float64\n",
      " 1   address                              3912 non-null   object \n",
      " 2   postcode                             3912 non-null   float64\n",
      " 3   state                                3912 non-null   int8   \n",
      " 4   country                              3912 non-null   object \n",
      " 5   property_valuation                   3912 non-null   float64\n",
      " 6   customer_id.1                        3912 non-null   int64  \n",
      " 7   first_name                           3912 non-null   object \n",
      " 8   gender                               3912 non-null   object \n",
      " 9   past_3_years_bike_related_purchases  3912 non-null   int64  \n",
      " 10  DOB                                  3912 non-null   object \n",
      " 11  job_title                            3912 non-null   object \n",
      " 12  job_industry_category                3912 non-null   int8   \n",
      " 13  wealth_segment                       3912 non-null   int8   \n",
      " 14  deceased_indicator                   3912 non-null   int8   \n",
      " 15  owns_car                             3912 non-null   int8   \n",
      " 16  tenure                               3912 non-null   int8   \n",
      "dtypes: float64(3), int64(2), int8(6), object(6)\n",
      "memory usage: 389.7+ KB\n"
     ]
    }
   ],
   "source": [
    "df.info()"
   ]
  },
  {
   "cell_type": "code",
   "execution_count": 34,
   "id": "325b0de2",
   "metadata": {},
   "outputs": [],
   "source": [
    "df = df.drop(columns=['country'])"
   ]
  },
  {
   "cell_type": "code",
   "execution_count": 35,
   "id": "f194dc29",
   "metadata": {},
   "outputs": [
    {
     "data": {
      "text/html": [
       "<div>\n",
       "<style scoped>\n",
       "    .dataframe tbody tr th:only-of-type {\n",
       "        vertical-align: middle;\n",
       "    }\n",
       "\n",
       "    .dataframe tbody tr th {\n",
       "        vertical-align: top;\n",
       "    }\n",
       "\n",
       "    .dataframe thead th {\n",
       "        text-align: right;\n",
       "    }\n",
       "</style>\n",
       "<table border=\"1\" class=\"dataframe\">\n",
       "  <thead>\n",
       "    <tr style=\"text-align: right;\">\n",
       "      <th></th>\n",
       "      <th>customer_id</th>\n",
       "      <th>address</th>\n",
       "      <th>postcode</th>\n",
       "      <th>state</th>\n",
       "      <th>property_valuation</th>\n",
       "      <th>customer_id.1</th>\n",
       "      <th>first_name</th>\n",
       "      <th>gender</th>\n",
       "      <th>past_3_years_bike_related_purchases</th>\n",
       "      <th>DOB</th>\n",
       "      <th>job_title</th>\n",
       "      <th>job_industry_category</th>\n",
       "      <th>wealth_segment</th>\n",
       "      <th>deceased_indicator</th>\n",
       "      <th>owns_car</th>\n",
       "      <th>tenure</th>\n",
       "    </tr>\n",
       "  </thead>\n",
       "  <tbody>\n",
       "    <tr>\n",
       "      <th>0</th>\n",
       "      <td>1.0</td>\n",
       "      <td>060 Morning Avenue</td>\n",
       "      <td>2016.0</td>\n",
       "      <td>1</td>\n",
       "      <td>10.0</td>\n",
       "      <td>1</td>\n",
       "      <td>Laraine</td>\n",
       "      <td>F</td>\n",
       "      <td>93</td>\n",
       "      <td>1953-10-12</td>\n",
       "      <td>Executive Secretary</td>\n",
       "      <td>3</td>\n",
       "      <td>2</td>\n",
       "      <td>0</td>\n",
       "      <td>1</td>\n",
       "      <td>10</td>\n",
       "    </tr>\n",
       "    <tr>\n",
       "      <th>1</th>\n",
       "      <td>2.0</td>\n",
       "      <td>6 Meadow Vale Court</td>\n",
       "      <td>2153.0</td>\n",
       "      <td>1</td>\n",
       "      <td>10.0</td>\n",
       "      <td>2</td>\n",
       "      <td>Eli</td>\n",
       "      <td>Male</td>\n",
       "      <td>81</td>\n",
       "      <td>1980-12-16</td>\n",
       "      <td>Administrative Officer</td>\n",
       "      <td>2</td>\n",
       "      <td>2</td>\n",
       "      <td>0</td>\n",
       "      <td>1</td>\n",
       "      <td>15</td>\n",
       "    </tr>\n",
       "    <tr>\n",
       "      <th>2</th>\n",
       "      <td>4.0</td>\n",
       "      <td>0 Holy Cross Court</td>\n",
       "      <td>4211.0</td>\n",
       "      <td>2</td>\n",
       "      <td>9.0</td>\n",
       "      <td>3</td>\n",
       "      <td>Arlin</td>\n",
       "      <td>Male</td>\n",
       "      <td>61</td>\n",
       "      <td>1954-01-20</td>\n",
       "      <td>Recruiting Manager</td>\n",
       "      <td>6</td>\n",
       "      <td>2</td>\n",
       "      <td>0</td>\n",
       "      <td>1</td>\n",
       "      <td>14</td>\n",
       "    </tr>\n",
       "    <tr>\n",
       "      <th>3</th>\n",
       "      <td>5.0</td>\n",
       "      <td>17979 Del Mar Point</td>\n",
       "      <td>2448.0</td>\n",
       "      <td>1</td>\n",
       "      <td>4.0</td>\n",
       "      <td>4</td>\n",
       "      <td>Talbot</td>\n",
       "      <td>Male</td>\n",
       "      <td>33</td>\n",
       "      <td>1961-10-03</td>\n",
       "      <td>none</td>\n",
       "      <td>4</td>\n",
       "      <td>2</td>\n",
       "      <td>0</td>\n",
       "      <td>0</td>\n",
       "      <td>6</td>\n",
       "    </tr>\n",
       "    <tr>\n",
       "      <th>4</th>\n",
       "      <td>6.0</td>\n",
       "      <td>9 Oakridge Court</td>\n",
       "      <td>3216.0</td>\n",
       "      <td>3</td>\n",
       "      <td>9.0</td>\n",
       "      <td>5</td>\n",
       "      <td>Sheila-kathryn</td>\n",
       "      <td>Female</td>\n",
       "      <td>56</td>\n",
       "      <td>1977-05-13</td>\n",
       "      <td>Senior Editor</td>\n",
       "      <td>9</td>\n",
       "      <td>0</td>\n",
       "      <td>0</td>\n",
       "      <td>1</td>\n",
       "      <td>7</td>\n",
       "    </tr>\n",
       "    <tr>\n",
       "      <th>...</th>\n",
       "      <td>...</td>\n",
       "      <td>...</td>\n",
       "      <td>...</td>\n",
       "      <td>...</td>\n",
       "      <td>...</td>\n",
       "      <td>...</td>\n",
       "      <td>...</td>\n",
       "      <td>...</td>\n",
       "      <td>...</td>\n",
       "      <td>...</td>\n",
       "      <td>...</td>\n",
       "      <td>...</td>\n",
       "      <td>...</td>\n",
       "      <td>...</td>\n",
       "      <td>...</td>\n",
       "      <td>...</td>\n",
       "    </tr>\n",
       "    <tr>\n",
       "      <th>3993</th>\n",
       "      <td>3998.0</td>\n",
       "      <td>736 Roxbury Junction</td>\n",
       "      <td>2540.0</td>\n",
       "      <td>0</td>\n",
       "      <td>6.0</td>\n",
       "      <td>3994</td>\n",
       "      <td>Stephie</td>\n",
       "      <td>Female</td>\n",
       "      <td>5</td>\n",
       "      <td>1989-04-07</td>\n",
       "      <td>Structural Analysis Engineer</td>\n",
       "      <td>5</td>\n",
       "      <td>0</td>\n",
       "      <td>0</td>\n",
       "      <td>0</td>\n",
       "      <td>11</td>\n",
       "    </tr>\n",
       "    <tr>\n",
       "      <th>3994</th>\n",
       "      <td>3999.0</td>\n",
       "      <td>1482 Hauk Trail</td>\n",
       "      <td>3064.0</td>\n",
       "      <td>3</td>\n",
       "      <td>3.0</td>\n",
       "      <td>3995</td>\n",
       "      <td>Rusty</td>\n",
       "      <td>Male</td>\n",
       "      <td>93</td>\n",
       "      <td>1975-12-12</td>\n",
       "      <td>Staff Scientist</td>\n",
       "      <td>5</td>\n",
       "      <td>2</td>\n",
       "      <td>0</td>\n",
       "      <td>1</td>\n",
       "      <td>13</td>\n",
       "    </tr>\n",
       "    <tr>\n",
       "      <th>3995</th>\n",
       "      <td>4000.0</td>\n",
       "      <td>57042 Village Green Point</td>\n",
       "      <td>4511.0</td>\n",
       "      <td>2</td>\n",
       "      <td>6.0</td>\n",
       "      <td>3996</td>\n",
       "      <td>Rosalia</td>\n",
       "      <td>Female</td>\n",
       "      <td>8</td>\n",
       "      <td>1975-08-09</td>\n",
       "      <td>VP Product Management</td>\n",
       "      <td>3</td>\n",
       "      <td>2</td>\n",
       "      <td>0</td>\n",
       "      <td>0</td>\n",
       "      <td>18</td>\n",
       "    </tr>\n",
       "    <tr>\n",
       "      <th>3996</th>\n",
       "      <td>4001.0</td>\n",
       "      <td>87 Crescent Oaks Alley</td>\n",
       "      <td>2756.0</td>\n",
       "      <td>0</td>\n",
       "      <td>10.0</td>\n",
       "      <td>3997</td>\n",
       "      <td>Blanch</td>\n",
       "      <td>Female</td>\n",
       "      <td>87</td>\n",
       "      <td>2001-07-13</td>\n",
       "      <td>Statistician II</td>\n",
       "      <td>5</td>\n",
       "      <td>1</td>\n",
       "      <td>0</td>\n",
       "      <td>1</td>\n",
       "      <td>0</td>\n",
       "    </tr>\n",
       "    <tr>\n",
       "      <th>3998</th>\n",
       "      <td>4003.0</td>\n",
       "      <td>320 Acker Drive</td>\n",
       "      <td>2251.0</td>\n",
       "      <td>0</td>\n",
       "      <td>7.0</td>\n",
       "      <td>3999</td>\n",
       "      <td>Patrizius</td>\n",
       "      <td>Male</td>\n",
       "      <td>11</td>\n",
       "      <td>1973-10-24</td>\n",
       "      <td>none</td>\n",
       "      <td>5</td>\n",
       "      <td>0</td>\n",
       "      <td>0</td>\n",
       "      <td>1</td>\n",
       "      <td>9</td>\n",
       "    </tr>\n",
       "  </tbody>\n",
       "</table>\n",
       "<p>3912 rows × 16 columns</p>\n",
       "</div>"
      ],
      "text/plain": [
       "      customer_id                    address  postcode  state  \\\n",
       "0             1.0         060 Morning Avenue    2016.0      1   \n",
       "1             2.0        6 Meadow Vale Court    2153.0      1   \n",
       "2             4.0         0 Holy Cross Court    4211.0      2   \n",
       "3             5.0        17979 Del Mar Point    2448.0      1   \n",
       "4             6.0           9 Oakridge Court    3216.0      3   \n",
       "...           ...                        ...       ...    ...   \n",
       "3993       3998.0       736 Roxbury Junction    2540.0      0   \n",
       "3994       3999.0            1482 Hauk Trail    3064.0      3   \n",
       "3995       4000.0  57042 Village Green Point    4511.0      2   \n",
       "3996       4001.0     87 Crescent Oaks Alley    2756.0      0   \n",
       "3998       4003.0            320 Acker Drive    2251.0      0   \n",
       "\n",
       "      property_valuation  customer_id.1      first_name  gender  \\\n",
       "0                   10.0              1         Laraine       F   \n",
       "1                   10.0              2             Eli    Male   \n",
       "2                    9.0              3           Arlin    Male   \n",
       "3                    4.0              4          Talbot    Male   \n",
       "4                    9.0              5  Sheila-kathryn  Female   \n",
       "...                  ...            ...             ...     ...   \n",
       "3993                 6.0           3994         Stephie  Female   \n",
       "3994                 3.0           3995           Rusty    Male   \n",
       "3995                 6.0           3996         Rosalia  Female   \n",
       "3996                10.0           3997          Blanch  Female   \n",
       "3998                 7.0           3999       Patrizius    Male   \n",
       "\n",
       "      past_3_years_bike_related_purchases         DOB  \\\n",
       "0                                      93  1953-10-12   \n",
       "1                                      81  1980-12-16   \n",
       "2                                      61  1954-01-20   \n",
       "3                                      33  1961-10-03   \n",
       "4                                      56  1977-05-13   \n",
       "...                                   ...         ...   \n",
       "3993                                    5  1989-04-07   \n",
       "3994                                   93  1975-12-12   \n",
       "3995                                    8  1975-08-09   \n",
       "3996                                   87  2001-07-13   \n",
       "3998                                   11  1973-10-24   \n",
       "\n",
       "                         job_title  job_industry_category  wealth_segment  \\\n",
       "0              Executive Secretary                      3               2   \n",
       "1           Administrative Officer                      2               2   \n",
       "2               Recruiting Manager                      6               2   \n",
       "3                             none                      4               2   \n",
       "4                    Senior Editor                      9               0   \n",
       "...                            ...                    ...             ...   \n",
       "3993  Structural Analysis Engineer                      5               0   \n",
       "3994               Staff Scientist                      5               2   \n",
       "3995         VP Product Management                      3               2   \n",
       "3996               Statistician II                      5               1   \n",
       "3998                          none                      5               0   \n",
       "\n",
       "      deceased_indicator  owns_car  tenure  \n",
       "0                      0         1      10  \n",
       "1                      0         1      15  \n",
       "2                      0         1      14  \n",
       "3                      0         0       6  \n",
       "4                      0         1       7  \n",
       "...                  ...       ...     ...  \n",
       "3993                   0         0      11  \n",
       "3994                   0         1      13  \n",
       "3995                   0         0      18  \n",
       "3996                   0         1       0  \n",
       "3998                   0         1       9  \n",
       "\n",
       "[3912 rows x 16 columns]"
      ]
     },
     "execution_count": 35,
     "metadata": {},
     "output_type": "execute_result"
    }
   ],
   "source": [
    "df"
   ]
  },
  {
   "cell_type": "code",
   "execution_count": 36,
   "id": "77958f65",
   "metadata": {},
   "outputs": [
    {
     "data": {
      "text/plain": [
       "<AxesSubplot:>"
      ]
     },
     "execution_count": 36,
     "metadata": {},
     "output_type": "execute_result"
    },
    {
     "data": {
      "image/png": "[encoded data removed]",
      "text/plain": [
       "<Figure size 432x288 with 2 Axes>"
      ]
     },
     "metadata": {
      "needs_background": "light"
     },
     "output_type": "display_data"
    }
   ],
   "source": [
    "corr = df.corr()\n",
    "sns.heatmap(corr, cmap=\"Blues\", annot=True)"
   ]
  },
  {
   "cell_type": "code",
   "execution_count": 37,
   "id": "5395bdaf",
   "metadata": {},
   "outputs": [
    {
     "data": {
      "text/plain": [
       "<AxesSubplot:>"
      ]
     },
     "execution_count": 37,
     "metadata": {},
     "output_type": "execute_result"
    },
    {
     "data": {
      "image/png": "[encoded data removed]",
      "text/plain": [
       "<Figure size 432x288 with 2 Axes>"
      ]
     },
     "metadata": {
      "needs_background": "light"
     },
     "output_type": "display_data"
    }
   ],
   "source": [
    "corr = df.corr()\n",
    "sns.heatmap(corr, cmap=\"Blues\")"
   ]
  },
  {
   "cell_type": "code",
   "execution_count": null,
   "id": "83ed2c13",
   "metadata": {},
   "outputs": [],
   "source": []
  }
 ],
 "metadata": {
  "kernelspec": {
   "display_name": "Python 3 (ipykernel)",
   "language": "python",
   "name": "python3"
  },
  "language_info": {
   "codemirror_mode": {
    "name": "ipython",
    "version": 3
   },
   "file_extension": ".py",
   "mimetype": "text/x-python",
   "name": "python",
   "nbconvert_exporter": "python",
   "pygments_lexer": "ipython3",
   "version": "3.9.12"
  }
 },
 "nbformat": 4,
 "nbformat_minor": 5
}
