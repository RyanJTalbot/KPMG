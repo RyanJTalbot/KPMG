{
 "cells": [
  {
   "cell_type": "markdown",
   "id": "2b03a28f",
   "metadata": {},
   "source": [
    "Compare your submission to the model work\n",
    "\n",
    "After viewing the model solution, make notes on the strengths and differences of your own submission in comparison to it. How might you make changes to your own response? Save your notes below to track your improvements. If you allow KPMG AU to view your work, your improvements will also be visible to them."
   ]
  },
  {
   "cell_type": "code",
   "execution_count": null,
   "id": "aa523a93",
   "metadata": {},
   "outputs": [],
   "source": []
  }
 ],
 "metadata": {
  "kernelspec": {
   "display_name": "Python 3 (ipykernel)",
   "language": "python",
   "name": "python3"
  },
  "language_info": {
   "codemirror_mode": {
    "name": "ipython",
    "version": 3
   },
   "file_extension": ".py",
   "mimetype": "text/x-python",
   "name": "python",
   "nbconvert_exporter": "python",
   "pygments_lexer": "ipython3",
   "version": "3.9.12"
  }
 },
 "nbformat": 4,
 "nbformat_minor": 5
}
