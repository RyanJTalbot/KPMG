{
 "cells": [
  {
   "cell_type": "code",
   "execution_count": 1,
   "id": "74695c6e",
   "metadata": {},
   "outputs": [],
   "source": [
    "#invite people for the Kaggle party\n",
    "import pandas as pd\n",
    "import matplotlib.pyplot as plt\n",
    "import seaborn as sns\n",
    "import numpy as np\n",
    "from scipy.stats import norm\n",
    "from sklearn.preprocessing import StandardScaler\n",
    "from scipy import stats\n",
    "import warnings\n",
    "warnings.filterwarnings('ignore')\n",
    "%matplotlib inline"
   ]
  },
  {
   "cell_type": "code",
   "execution_count": 2,
   "id": "1c18a1cf",
   "metadata": {},
   "outputs": [],
   "source": [
    "df = pd.read_csv('transactions_ordered.csv')"
   ]
  },
  {
   "cell_type": "code",
   "execution_count": 3,
   "id": "a0c42918",
   "metadata": {},
   "outputs": [
    {
     "data": {
      "text/plain": [
       "transaction_id             20000\n",
       "product_id                   101\n",
       "customer_id                 3494\n",
       "transaction_date             364\n",
       "online_order                   2\n",
       "order_status                   2\n",
       "brand                          6\n",
       "product_line                   4\n",
       "product_class                  3\n",
       "product_size                   3\n",
       "list_price                   296\n",
       "standard_cost                103\n",
       "product_first_sold_date      100\n",
       "dtype: int64"
      ]
     },
     "execution_count": 3,
     "metadata": {},
     "output_type": "execute_result"
    }
   ],
   "source": [
    "df.nunique()"
   ]
  },
  {
   "cell_type": "code",
   "execution_count": 4,
   "id": "ab22c5c6",
   "metadata": {},
   "outputs": [
    {
     "data": {
      "text/plain": [
       "260000"
      ]
     },
     "execution_count": 4,
     "metadata": {},
     "output_type": "execute_result"
    }
   ],
   "source": [
    "df.size"
   ]
  },
  {
   "cell_type": "markdown",
   "id": "2d073f2b",
   "metadata": {},
   "source": [
    "transaction_id             20000\n",
    "\n",
    "customer_id                 3494\n",
    "\n",
    "product_id                   101\n",
    "\n",
    "product_first_sold_date      100\n",
    "\n",
    "df.size 260000\n"
   ]
  },
  {
   "cell_type": "code",
   "execution_count": 7,
   "id": "8befd958",
   "metadata": {},
   "outputs": [
    {
     "data": {
      "text/plain": [
       "True     9829\n",
       "False    9811\n",
       "Name: online_order, dtype: int64"
      ]
     },
     "execution_count": 7,
     "metadata": {},
     "output_type": "execute_result"
    }
   ],
   "source": [
    "df['online_order'].value_counts()"
   ]
  },
  {
   "cell_type": "code",
   "execution_count": 8,
   "id": "266e3205",
   "metadata": {},
   "outputs": [
    {
     "data": {
      "text/plain": [
       "Approved     19821\n",
       "Cancelled      179\n",
       "Name: order_status, dtype: int64"
      ]
     },
     "execution_count": 8,
     "metadata": {},
     "output_type": "execute_result"
    }
   ],
   "source": [
    "df['order_status'].value_counts()"
   ]
  },
  {
   "cell_type": "code",
   "execution_count": 9,
   "id": "3d964b30",
   "metadata": {},
   "outputs": [
    {
     "data": {
      "text/plain": [
       "Standard    14176\n",
       "Road         3970\n",
       "Touring      1234\n",
       "Mountain      423\n",
       "Name: product_line, dtype: int64"
      ]
     },
     "execution_count": 9,
     "metadata": {},
     "output_type": "execute_result"
    }
   ],
   "source": [
    "df['product_line'].value_counts()"
   ]
  },
  {
   "cell_type": "markdown",
   "id": "1e92a988",
   "metadata": {},
   "source": [
    "online orders are 50/50 \n",
    "\n",
    "product lines:\n",
    "\n",
    "    - standard 14176\n",
    "    - road 3970\n",
    "    - touring 1234\n",
    "    - mountain 423\n",
    "    \n",
    "brands: \n",
    "\n",
    "    - Solex             4253\n",
    "    - Giant Bicycles    3312\n",
    "    - WeareA2B          3295\n",
    "    - OHM Cycles        3043\n",
    "    - Trek Bicycles     2990\n",
    "    - Norco Bicycles    2910\n",
    "    \n",
    "product class:\n",
    "\n",
    "    - medium 13826\n",
    "    - high 3013\n",
    "    - low 2964\n",
    "    \n",
    "product size:\n",
    "\n",
    "    - medium 12990\n",
    "    - large 3976\n",
    "    - small 2837"
   ]
  },
  {
   "cell_type": "code",
   "execution_count": 27,
   "id": "79f37976",
   "metadata": {},
   "outputs": [
    {
     "data": {
      "text/plain": [
       "19803"
      ]
     },
     "execution_count": 27,
     "metadata": {},
     "output_type": "execute_result"
    }
   ],
   "source": [
    "df['product_line'].value_counts().sum()"
   ]
  },
  {
   "cell_type": "code",
   "execution_count": 28,
   "id": "062caa17",
   "metadata": {},
   "outputs": [
    {
     "data": {
      "text/plain": [
       "medium    0.655961\n",
       "large     0.200778\n",
       "small     0.143261\n",
       "Name: product_size, dtype: float64"
      ]
     },
     "execution_count": 28,
     "metadata": {},
     "output_type": "execute_result"
    }
   ],
   "source": [
    "df['product_size'].value_counts(normalize=True)"
   ]
  },
  {
   "cell_type": "code",
   "execution_count": 25,
   "id": "f3ac5269",
   "metadata": {},
   "outputs": [
    {
     "data": {
      "text/plain": [
       "medium    0.698177\n",
       "high      0.152149\n",
       "low       0.149674\n",
       "Name: product_class, dtype: float64"
      ]
     },
     "execution_count": 25,
     "metadata": {},
     "output_type": "execute_result"
    }
   ],
   "source": [
    "df['product_class'].value_counts(normalize=True)"
   ]
  },
  {
   "cell_type": "code",
   "execution_count": 24,
   "id": "939ae561",
   "metadata": {},
   "outputs": [
    {
     "data": {
      "text/plain": [
       "Standard    0.715851\n",
       "Road        0.200475\n",
       "Touring     0.062314\n",
       "Mountain    0.021360\n",
       "Name: product_line, dtype: float64"
      ]
     },
     "execution_count": 24,
     "metadata": {},
     "output_type": "execute_result"
    }
   ],
   "source": [
    "df['product_line'].value_counts(normalize=True)"
   ]
  },
  {
   "cell_type": "code",
   "execution_count": 20,
   "id": "b766b3e7",
   "metadata": {},
   "outputs": [],
   "source": [
    "# 2% of sales is the mountain bike\n",
    "# 71.59% of sales is standard bike"
   ]
  },
  {
   "cell_type": "markdown",
   "id": "3d622faa",
   "metadata": {},
   "source": [
    "70% of bikes sold are of the medium product class\n",
    "\n",
    "66% of bikes sold are of the medium product size"
   ]
  },
  {
   "cell_type": "code",
   "execution_count": 10,
   "id": "559486fe",
   "metadata": {},
   "outputs": [
    {
     "data": {
      "text/plain": [
       "Solex             4253\n",
       "Giant Bicycles    3312\n",
       "WeareA2B          3295\n",
       "OHM Cycles        3043\n",
       "Trek Bicycles     2990\n",
       "Norco Bicycles    2910\n",
       "Name: brand, dtype: int64"
      ]
     },
     "execution_count": 10,
     "metadata": {},
     "output_type": "execute_result"
    }
   ],
   "source": [
    "df['brand'].value_counts()"
   ]
  },
  {
   "cell_type": "code",
   "execution_count": 11,
   "id": "0f44ff02",
   "metadata": {},
   "outputs": [
    {
     "data": {
      "text/plain": [
       "medium    13826\n",
       "high       3013\n",
       "low        2964\n",
       "Name: product_class, dtype: int64"
      ]
     },
     "execution_count": 11,
     "metadata": {},
     "output_type": "execute_result"
    }
   ],
   "source": [
    "df['product_class'].value_counts()"
   ]
  },
  {
   "cell_type": "code",
   "execution_count": 12,
   "id": "01c91ddc",
   "metadata": {},
   "outputs": [
    {
     "data": {
      "text/plain": [
       "medium    12990\n",
       "large      3976\n",
       "small      2837\n",
       "Name: product_size, dtype: int64"
      ]
     },
     "execution_count": 12,
     "metadata": {},
     "output_type": "execute_result"
    }
   ],
   "source": [
    "df['product_size'].value_counts()"
   ]
  },
  {
   "cell_type": "code",
   "execution_count": null,
   "id": "78f581c9",
   "metadata": {},
   "outputs": [],
   "source": []
  },
  {
   "cell_type": "code",
   "execution_count": null,
   "id": "6161454f",
   "metadata": {},
   "outputs": [],
   "source": []
  },
  {
   "cell_type": "code",
   "execution_count": 5,
   "id": "557d7af2",
   "metadata": {},
   "outputs": [],
   "source": [
    "cusotmers = df['customer_id'].value_counts()"
   ]
  },
  {
   "cell_type": "code",
   "execution_count": 6,
   "id": "d9feebd3",
   "metadata": {},
   "outputs": [
    {
     "data": {
      "text/plain": [
       "2476    14\n",
       "2183    14\n",
       "1068    14\n",
       "1672    13\n",
       "2548    13\n",
       "        ..\n",
       "3161     1\n",
       "1325     1\n",
       "1529     1\n",
       "2807     1\n",
       "2525     1\n",
       "Name: customer_id, Length: 3494, dtype: int64"
      ]
     },
     "execution_count": 6,
     "metadata": {},
     "output_type": "execute_result"
    }
   ],
   "source": [
    "cusotmers"
   ]
  },
  {
   "cell_type": "code",
   "execution_count": null,
   "id": "cc1fd954",
   "metadata": {},
   "outputs": [],
   "source": [
    "mults = []\n",
    "\n",
    "for i in cusotmers:\n",
    "    if (i >= 5):\n",
    "        mults.append(i)"
   ]
  },
  {
   "cell_type": "code",
   "execution_count": null,
   "id": "4f2f8b2c",
   "metadata": {},
   "outputs": [],
   "source": [
    "len(mults)"
   ]
  },
  {
   "cell_type": "markdown",
   "id": "4372933f",
   "metadata": {},
   "source": [
    "2383 customers buy 5 or more products"
   ]
  },
  {
   "cell_type": "code",
   "execution_count": null,
   "id": "d3da7827",
   "metadata": {},
   "outputs": [],
   "source": [
    "mult = []\n",
    "\n",
    "for i in cusotmers:\n",
    "    if (i > 1):\n",
    "        mult.append(i)"
   ]
  },
  {
   "cell_type": "code",
   "execution_count": null,
   "id": "c75f6f4c",
   "metadata": {},
   "outputs": [],
   "source": [
    "len(mult)"
   ]
  },
  {
   "cell_type": "code",
   "execution_count": null,
   "id": "3546b794",
   "metadata": {},
   "outputs": [],
   "source": [
    "20000 - 3445"
   ]
  },
  {
   "cell_type": "markdown",
   "id": "6a993559",
   "metadata": {},
   "source": [
    "3445 customers bought more than 1 product\n",
    "\n",
    "16555 customers boutght only 1 product"
   ]
  },
  {
   "cell_type": "code",
   "execution_count": null,
   "id": "0538566b",
   "metadata": {},
   "outputs": [],
   "source": [
    "df.info()"
   ]
  },
  {
   "cell_type": "code",
   "execution_count": null,
   "id": "ad5614e9",
   "metadata": {},
   "outputs": [],
   "source": [
    "df.nunique()"
   ]
  },
  {
   "cell_type": "code",
   "execution_count": null,
   "id": "0a56a1e8",
   "metadata": {},
   "outputs": [],
   "source": [
    "df[\"product_size\"] = df[\"product_size\"].astype(\"category\").cat.codes"
   ]
  },
  {
   "cell_type": "code",
   "execution_count": null,
   "id": "fbeacb4b",
   "metadata": {},
   "outputs": [],
   "source": [
    "df[\"product_class\"] = df[\"product_class\"].astype(\"category\").cat.codes"
   ]
  },
  {
   "cell_type": "code",
   "execution_count": null,
   "id": "98acb97a",
   "metadata": {},
   "outputs": [],
   "source": [
    "df[\"product_line\"] = df[\"product_line\"].astype(\"category\").cat.codes"
   ]
  },
  {
   "cell_type": "code",
   "execution_count": null,
   "id": "2c843b37",
   "metadata": {},
   "outputs": [],
   "source": [
    "df[\"brand\"] = df[\"brand\"].astype(\"category\").cat.codes"
   ]
  },
  {
   "cell_type": "code",
   "execution_count": null,
   "id": "59b020b3",
   "metadata": {},
   "outputs": [],
   "source": [
    "df[\"order_status\"] = df[\"order_status\"].astype(\"category\").cat.codes"
   ]
  },
  {
   "cell_type": "code",
   "execution_count": null,
   "id": "101477bc",
   "metadata": {},
   "outputs": [],
   "source": [
    "df[\"online_order\"] = df[\"online_order\"].astype(\"category\").cat.codes"
   ]
  },
  {
   "cell_type": "code",
   "execution_count": null,
   "id": "3d319b4e",
   "metadata": {},
   "outputs": [],
   "source": [
    "df.info()"
   ]
  },
  {
   "cell_type": "code",
   "execution_count": null,
   "id": "d630ad70",
   "metadata": {},
   "outputs": [],
   "source": [
    "df"
   ]
  },
  {
   "cell_type": "code",
   "execution_count": null,
   "id": "48262201",
   "metadata": {},
   "outputs": [],
   "source": [
    "trans_date = df['transaction_date']"
   ]
  },
  {
   "cell_type": "code",
   "execution_count": null,
   "id": "b042abd2",
   "metadata": {},
   "outputs": [],
   "source": [
    "noyear = []\n",
    "\n",
    "for i in trans_date:\n",
    "    noyear.append(i[0:-3])\n",
    "    "
   ]
  },
  {
   "cell_type": "code",
   "execution_count": null,
   "id": "b4ca57a0",
   "metadata": {},
   "outputs": [],
   "source": [
    "noyear"
   ]
  },
  {
   "cell_type": "code",
   "execution_count": null,
   "id": "2befa4f5",
   "metadata": {},
   "outputs": [],
   "source": [
    "day = []\n",
    "month = []\n",
    "\n",
    "for i in noyear:\n",
    "    if(i[-2] == '/'):\n",
    "        month.append(i[0:-2])\n",
    "        day.append(i[-1:])\n",
    "    elif (i[-3] == '/'):\n",
    "        month.append(i[0:-3])\n",
    "        day.append(i[-2:])"
   ]
  },
  {
   "cell_type": "code",
   "execution_count": null,
   "id": "296e7421",
   "metadata": {},
   "outputs": [],
   "source": [
    "day"
   ]
  },
  {
   "cell_type": "code",
   "execution_count": null,
   "id": "5d55ed6f",
   "metadata": {},
   "outputs": [],
   "source": [
    "df['day']= day"
   ]
  },
  {
   "cell_type": "code",
   "execution_count": null,
   "id": "f601cca3",
   "metadata": {},
   "outputs": [],
   "source": [
    "df['month']= month"
   ]
  },
  {
   "cell_type": "code",
   "execution_count": null,
   "id": "4642cc17",
   "metadata": {},
   "outputs": [],
   "source": [
    "df"
   ]
  },
  {
   "cell_type": "code",
   "execution_count": null,
   "id": "4e392438",
   "metadata": {},
   "outputs": [],
   "source": [
    "df.info()"
   ]
  },
  {
   "cell_type": "code",
   "execution_count": null,
   "id": "1725f524",
   "metadata": {},
   "outputs": [],
   "source": [
    "df['day'] = df['day'].astype('int')"
   ]
  },
  {
   "cell_type": "code",
   "execution_count": null,
   "id": "35ea1ff8",
   "metadata": {},
   "outputs": [],
   "source": [
    "df['month'] = df['month'].astype('int')"
   ]
  },
  {
   "cell_type": "code",
   "execution_count": null,
   "id": "8598e310",
   "metadata": {},
   "outputs": [],
   "source": [
    "df.info()"
   ]
  },
  {
   "cell_type": "code",
   "execution_count": null,
   "id": "8f15180d",
   "metadata": {},
   "outputs": [],
   "source": [
    "corr = df.corr()\n",
    "sns.heatmap(corr, cmap=\"Blues\", annot=True)"
   ]
  },
  {
   "cell_type": "code",
   "execution_count": null,
   "id": "a70c4dd1",
   "metadata": {},
   "outputs": [],
   "source": [
    "corr = df.corr()\n",
    "sns.heatmap(corr, cmap=\"Blues\")"
   ]
  },
  {
   "cell_type": "code",
   "execution_count": null,
   "id": "189a526b",
   "metadata": {},
   "outputs": [],
   "source": [
    "cost = df['standard_cost']"
   ]
  },
  {
   "cell_type": "code",
   "execution_count": null,
   "id": "46482e63",
   "metadata": {},
   "outputs": [],
   "source": [
    "df.describe()"
   ]
  },
  {
   "cell_type": "code",
   "execution_count": null,
   "id": "d72505cb",
   "metadata": {},
   "outputs": [],
   "source": []
  }
 ],
 "metadata": {
  "kernelspec": {
   "display_name": "Python 3 (ipykernel)",
   "language": "python",
   "name": "python3"
  },
  "language_info": {
   "codemirror_mode": {
    "name": "ipython",
    "version": 3
   },
   "file_extension": ".py",
   "mimetype": "text/x-python",
   "name": "python",
   "nbconvert_exporter": "python",
   "pygments_lexer": "ipython3",
   "version": "3.9.12"
  }
 },
 "nbformat": 4,
 "nbformat_minor": 5
}
